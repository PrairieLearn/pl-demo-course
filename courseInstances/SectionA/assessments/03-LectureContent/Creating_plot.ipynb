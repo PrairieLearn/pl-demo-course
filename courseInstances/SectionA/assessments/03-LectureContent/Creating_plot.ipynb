{
 "cells": [
  {
   "cell_type": "code",
   "execution_count": 74,
   "metadata": {},
   "outputs": [],
   "source": [
    "import numpy as np\n",
    "import numpy.linalg as la\n",
    "import matplotlib.pyplot as plt\n",
    "%matplotlib inline\n",
    "import matplotlib as ml\n",
    "ml.rcParams['text.usetex'] = True\n",
    "plt.rcParams.update({'font.size': 14})"
   ]
  },
  {
   "cell_type": "code",
   "execution_count": 17,
   "metadata": {},
   "outputs": [
    {
     "data": {
      "text/plain": [
       "-2"
      ]
     },
     "execution_count": 17,
     "metadata": {},
     "output_type": "execute_result"
    }
   ],
   "source": [
    "points = np.random.choice([-2,0,2,4],2)\n",
    "points[0]"
   ]
  },
  {
   "cell_type": "code",
   "execution_count": 92,
   "metadata": {},
   "outputs": [
    {
     "data": {
      "text/plain": [
       "Text(3.7, 6.6, '$b$')"
      ]
     },
     "execution_count": 92,
     "metadata": {},
     "output_type": "execute_result"
    },
    {
     "data": {
      "image/png": "[encoded data removed]",
      "text/plain": [
       "<Figure size 432x288 with 1 Axes>"
      ]
     },
     "metadata": {
      "needs_background": "light"
     },
     "output_type": "display_data"
    }
   ],
   "source": [
    "#clear\n",
    "a0 = -4\n",
    "b0 = 7\n",
    "\n",
    "xmesh = np.linspace(a0, b0, 100)\n",
    "x = np.linspace(a0, b0)\n",
    "\n",
    "def f(x):\n",
    "    return 0.5*x**2 - 2\n",
    "\n",
    "def df(x):\n",
    "    return x\n",
    "\n",
    "points = np.random.choice([-2,0,4],2,replace=False)\n",
    "b = max(points)\n",
    "a = min(points)\n",
    "\n",
    "slope = (f(b)-f(a))/(b-a)\n",
    "\n",
    "plt.plot(x,f(x))\n",
    "plt.plot(a, f(a),'or')\n",
    "plt.plot(b, f(b),'or')\n",
    "plt.plot(xmesh, f(a) + slope*(xmesh-a))\n",
    "plt.grid()\n",
    "plt.xlim(a0,b0)\n",
    "plt.ylim(-4,12)\n",
    "plt.text(a-0.3, f(a)+0.6, \"$a$\", fontsize=20)\n",
    "plt.text(b-0.3, f(b)+0.6, \"$b$\", fontsize=20)"
   ]
  },
  {
   "cell_type": "code",
   "execution_count": 101,
   "metadata": {},
   "outputs": [],
   "source": [
    "major_ticks = np.arange(0, 2.1, 0.25)\n",
    "minor_ticks = np.arange(0, 2.1, 0.125)"
   ]
  },
  {
   "cell_type": "code",
   "execution_count": 105,
   "metadata": {},
   "outputs": [],
   "source": [
    "import random"
   ]
  },
  {
   "cell_type": "code",
   "execution_count": 121,
   "metadata": {},
   "outputs": [
    {
     "data": {
      "text/plain": [
       "[{'tag': 'true', 'ans': '0.125'},\n",
       " {'tag': 'true', 'ans': '0.25'},\n",
       " {'tag': 'true', 'ans': '0.375'},\n",
       " {'tag': 'true', 'ans': '0.5'},\n",
       " {'tag': 'false', 'ans': '0.625'},\n",
       " {'tag': 'false', 'ans': '0.75'},\n",
       " {'tag': 'false', 'ans': '0.875'},\n",
       " {'tag': 'false', 'ans': '1.0'},\n",
       " {'tag': 'false', 'ans': '1.125'},\n",
       " {'tag': 'false', 'ans': '1.25'},\n",
       " {'tag': 'false', 'ans': '1.375'},\n",
       " {'tag': 'false', 'ans': '1.5'},\n",
       " {'tag': 'false', 'ans': '1.625'},\n",
       " {'tag': 'false', 'ans': '1.75'},\n",
       " {'tag': 'false', 'ans': '1.875'},\n",
       " {'tag': 'false', 'ans': '2.0'}]"
      ]
     },
     "execution_count": 121,
     "metadata": {},
     "output_type": "execute_result"
    }
   ],
   "source": [
    "a = random.choice([9,10,11,12])\n",
    "b = random.choice([10,11,12,13])\n",
    "\n",
    "sign = random.choice([\"positive\", \"negative\"])\n",
    "tmax = b/(2*a)\n",
    "points = np.arange(0.125, 2.1, 0.125)\n",
    "# data['params'][QUESTION1] = [\n",
    "#     {'tag': 'true', 'ans': 'whole'},\n",
    "#     {'tag': 'false', 'ans': 'part'},\n",
    "#     {'tag': 'false', 'ans': 'inverse'}\n",
    "#   ]\n",
    "dic = []\n",
    "for i, b in enumerate(points < tmax):\n",
    "    dic.append({'tag': str(b).lower(), 'ans': str(points[i])})\n",
    "dic"
   ]
  },
  {
   "cell_type": "code",
   "execution_count": 125,
   "metadata": {},
   "outputs": [
    {
     "name": "stdout",
     "output_type": "stream",
     "text": [
      "0.7222222222222222\n"
     ]
    },
    {
     "data": {
      "text/plain": [
       "[{'tag': 'false', 'ans': '0.125'},\n",
       " {'tag': 'false', 'ans': '0.25'},\n",
       " {'tag': 'false', 'ans': '0.375'},\n",
       " {'tag': 'false', 'ans': '0.5'},\n",
       " {'tag': 'true', 'ans': '1.0'},\n",
       " {'tag': 'true', 'ans': '1.125'},\n",
       " {'tag': 'true', 'ans': '1.25'},\n",
       " {'tag': 'true', 'ans': '1.375'},\n",
       " {'tag': 'true', 'ans': '1.5'},\n",
       " {'tag': 'true', 'ans': '1.625'},\n",
       " {'tag': 'true', 'ans': '1.75'},\n",
       " {'tag': 'true', 'ans': '1.875'},\n",
       " {'tag': 'true', 'ans': '2.0'}]"
      ]
     },
     "execution_count": 125,
     "metadata": {},
     "output_type": "execute_result"
    }
   ],
   "source": [
    "a = random.choice([9,10,11,12])\n",
    "b = random.choice([10,11,12,13])\n",
    "sign = random.choice([\"positive\", \"negative\"])\n",
    "tmax = b/(2*a)\n",
    "points = np.arange(0, 2.1, 0.125)\n",
    "print(tmax)\n",
    "dic = []\n",
    "for i,p in enumerate(points):\n",
    "    if p > 1.3*tmax:\n",
    "        dic.append({'tag': 'true', 'ans': str(p)})\n",
    "    elif p < 0.7*tmax:\n",
    "        dic.append({'tag': 'false', 'ans': str(p)})\n",
    "dic"
   ]
  },
  {
   "cell_type": "code",
   "execution_count": 133,
   "metadata": {},
   "outputs": [
    {
     "name": "stdout",
     "output_type": "stream",
     "text": [
      "-8.625\n"
     ]
    }
   ],
   "source": [
    "x1 = 0.25\n",
    "x2 = 1.625\n",
    "\n",
    "def s(x,a,b,c):\n",
    "    return -a*x**2 + b*x + c\n",
    "\n",
    "f2 = s(x2,11,12,30)\n",
    "f1 = s(x1,11,12,30)\n",
    "\n",
    "slope = (f2-f1)/(x2-x1)\n",
    "print(slope)"
   ]
  },
  {
   "cell_type": "code",
   "execution_count": null,
   "metadata": {},
   "outputs": [],
   "source": []
  }
 ],
 "metadata": {
  "kernelspec": {
   "display_name": "Python 3",
   "language": "python",
   "name": "python3"
  },
  "language_info": {
   "codemirror_mode": {
    "name": "ipython",
    "version": 3
   },
   "file_extension": ".py",
   "mimetype": "text/x-python",
   "name": "python",
   "nbconvert_exporter": "python",
   "pygments_lexer": "ipython3",
   "version": "3.8.0"
  }
 },
 "nbformat": 4,
 "nbformat_minor": 4
}
