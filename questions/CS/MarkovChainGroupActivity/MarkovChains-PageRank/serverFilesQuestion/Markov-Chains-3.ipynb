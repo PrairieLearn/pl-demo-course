{
 "cells": [
  {
   "cell_type": "code",
   "execution_count": 2,
   "metadata": {},
   "outputs": [],
   "source": [
    "import numpy as np\n",
    "import numpy.linalg as la\n",
    "import graph\n",
    "import matplotlib.pyplot as plt\n",
    "import helper_function as hf"
   ]
  },
  {
   "cell_type": "markdown",
   "metadata": {},
   "source": [
    "# Google PageRank"
   ]
  },
  {
   "cell_type": "markdown",
   "metadata": {},
   "source": [
    "Google's dominance as a search engine came from their [_PageRank_](http://ilpubs.stanford.edu:8090/422/1/1999-66.pdf) algorithm, named after co-founder Larry Page.  By assigning each page a relative rank, web searches can give more relevant results.\n",
    "\n",
    "The idea here is to model a user surfing different web pages by randomly clicking on links.  Pages with more incoming links (they are cited more often) are presumed to be higher quality and therefore get a higher PageRank value.\n",
    "\n",
    "We can model this as a graph, where each webpage has a chance of moving to another one:\n",
    "\n",
    "<img src=\"PageRank Example.svg\" width=\"300px\"></img>\n",
    "\n",
    "This probability of moving from one page to another is estimated from the number of outgoing links, more formally the probability of moving from page $j$ to page $i$ is given by:\n",
    "\n",
    "$$ p\\left(i \\vert j\\right) = \\frac{\\text{number of links from }j\\text{ to }i}{\\text{total links going out of } j}$$"
   ]
  },
  {
   "cell_type": "markdown",
   "metadata": {},
   "source": [
    "For example, if Google has 4 outgoing links:\n",
    "\n",
    " - 1 to Twitter\n",
    " - 1 to Reddit\n",
    " - 2 to Facebook\n",
    "\n",
    "Then it would have a $0\\%$ probability of linking to itself, $25\\%$ to Twitter, $25\\%$ to Reddit, and $50\\%$ to Facebook."
   ]
  },
  {
   "cell_type": "markdown",
   "metadata": {},
   "source": [
    "Let's first start with a small example. You are given an adjacency matrix ${\\bf A}$ such that each entry $A_{ij}$ contains the number of links going *into* page $i$ *from* $j$."
   ]
  },
  {
   "cell_type": "code",
   "execution_count": 7,
   "metadata": {},
   "outputs": [
    {
     "data": {
      "image/svg+xml": [
       "<svg xmlns=\"http://www.w3.org/2000/svg\" xmlns:xlink=\"http://www.w3.org/1999/xlink\" width=\"197pt\" height=\"305pt\" viewBox=\"0.00 0.00 197.24 305.00\">\n",
       "<g id=\"graph0\" class=\"graph\" transform=\"scale(1 1) rotate(0) translate(4 301)\">\n",
       "<polygon fill=\"#ffffff\" stroke=\"transparent\" points=\"-4,4 -4,-301 193.2399,-301 193.2399,4 -4,4\"/>\n",
       "<!-- Google -->\n",
       "<g id=\"node1\" class=\"node\">\n",
       "<title>Google</title>\n",
       "<ellipse fill=\"none\" stroke=\"#000000\" cx=\"129.1499\" cy=\"-279\" rx=\"37.8943\" ry=\"18\"/>\n",
       "<text text-anchor=\"middle\" x=\"129.1499\" y=\"-275.3\" font-family=\"Times,serif\" font-size=\"14.00\" fill=\"#000000\">Google</text>\n",
       "</g>\n",
       "<!-- Twitter -->\n",
       "<g id=\"node2\" class=\"node\">\n",
       "<title>Twitter</title>\n",
       "<ellipse fill=\"none\" stroke=\"#000000\" cx=\"98.1459\" cy=\"-192\" rx=\"37.8943\" ry=\"18\"/>\n",
       "<text text-anchor=\"middle\" x=\"98.1459\" y=\"-188.3\" font-family=\"Times,serif\" font-size=\"14.00\" fill=\"#000000\">Twitter</text>\n",
       "</g>\n",
       "<!-- Google&#45;&gt;Twitter -->\n",
       "<g id=\"edge1\" class=\"edge\">\n",
       "<title>Google-&gt;Twitter</title>\n",
       "<path fill=\"none\" stroke=\"#000000\" d=\"M122.7199,-260.97C118.4799,-249.08 112.8399,-233.25 108.0399,-219.76\"/>\n",
       "<polygon fill=\"#000000\" stroke=\"#000000\" points=\"111.2152,-218.2437 104.5599,-210 104.6217,-220.5947 111.2152,-218.2437\"/>\n",
       "<text text-anchor=\"middle\" x=\"119.1499\" y=\"-231.8\" font-family=\"Times,serif\" font-size=\"14.00\" fill=\"#000000\">1</text>\n",
       "</g>\n",
       "<!-- Facebook -->\n",
       "<g id=\"node3\" class=\"node\">\n",
       "<title>Facebook</title>\n",
       "<ellipse fill=\"none\" stroke=\"#000000\" cx=\"46.1459\" cy=\"-105\" rx=\"46.2923\" ry=\"18\"/>\n",
       "<text text-anchor=\"middle\" x=\"46.1459\" y=\"-101.3\" font-family=\"Times,serif\" font-size=\"14.00\" fill=\"#000000\">Facebook</text>\n",
       "</g>\n",
       "<!-- Google&#45;&gt;Facebook -->\n",
       "<g id=\"edge2\" class=\"edge\">\n",
       "<title>Google-&gt;Facebook</title>\n",
       "<path fill=\"none\" stroke=\"#000000\" d=\"M102.6899,-266.16C82.2289,-254.61 55.3999,-235.54 43.1459,-210 31.6219,-185.98 34.2279,-155.18 38.5899,-133.16\"/>\n",
       "<polygon fill=\"#000000\" stroke=\"#000000\" points=\"42.0683,-133.6408 40.8179,-123.12 35.2345,-132.1242 42.0683,-133.6408\"/>\n",
       "<text text-anchor=\"middle\" x=\"47.1459\" y=\"-188.3\" font-family=\"Times,serif\" font-size=\"14.00\" fill=\"#000000\">2</text>\n",
       "</g>\n",
       "<!-- Reddit -->\n",
       "<g id=\"node4\" class=\"node\">\n",
       "<title>Reddit</title>\n",
       "<ellipse fill=\"none\" stroke=\"#000000\" cx=\"128.1499\" cy=\"-18\" rx=\"35.194\" ry=\"18\"/>\n",
       "<text text-anchor=\"middle\" x=\"128.1499\" y=\"-14.3\" font-family=\"Times,serif\" font-size=\"14.00\" fill=\"#000000\">Reddit</text>\n",
       "</g>\n",
       "<!-- Google&#45;&gt;Reddit -->\n",
       "<g id=\"edge3\" class=\"edge\">\n",
       "<title>Google-&gt;Reddit</title>\n",
       "<path fill=\"none\" stroke=\"#000000\" d=\"M134.4999,-261.04C138.3199,-247.23 143.1299,-227.59 145.1499,-210 151.7899,-151.9 141.4399,-83.655 134.2099,-46.188\"/>\n",
       "<polygon fill=\"#000000\" stroke=\"#000000\" points=\"137.5706,-45.146 132.1699,-36.031 130.7077,-46.5244 137.5706,-45.146\"/>\n",
       "<text text-anchor=\"middle\" x=\"150.1499\" y=\"-144.8\" font-family=\"Times,serif\" font-size=\"14.00\" fill=\"#000000\">1</text>\n",
       "</g>\n",
       "<!-- Twitter&#45;&gt;Google -->\n",
       "<g id=\"edge4\" class=\"edge\">\n",
       "<title>Twitter-&gt;Google</title>\n",
       "<path fill=\"none\" stroke=\"#000000\" d=\"M96.1369,-210.01C95.6809,-220.03 96.2269,-232.55 100.1499,-243 101.6699,-247.06 103.8399,-251.01 106.3099,-254.71\"/>\n",
       "<polygon fill=\"#000000\" stroke=\"#000000\" points=\"103.6519,-256.997 112.4899,-262.84 109.2247,-252.7609 103.6519,-256.997\"/>\n",
       "<text text-anchor=\"middle\" x=\"104.1499\" y=\"-231.8\" font-family=\"Times,serif\" font-size=\"14.00\" fill=\"#000000\">2</text>\n",
       "</g>\n",
       "<!-- Twitter&#45;&gt;Facebook -->\n",
       "<g id=\"edge5\" class=\"edge\">\n",
       "<title>Twitter-&gt;Facebook</title>\n",
       "<path fill=\"none\" stroke=\"#000000\" d=\"M91.8089,-173.91C87.9359,-163.87 82.5069,-151.35 76.1459,-141 73.8939,-137.33 71.2919,-133.65 68.5819,-130.1\"/>\n",
       "<polygon fill=\"#000000\" stroke=\"#000000\" points=\"71.1837,-127.7512 62.1719,-122.18 65.7425,-132.1551 71.1837,-127.7512\"/>\n",
       "<text text-anchor=\"middle\" x=\"87.1459\" y=\"-144.8\" font-family=\"Times,serif\" font-size=\"14.00\" fill=\"#000000\">4</text>\n",
       "</g>\n",
       "<!-- Facebook&#45;&gt;Twitter -->\n",
       "<g id=\"edge6\" class=\"edge\">\n",
       "<title>Facebook-&gt;Twitter</title>\n",
       "<path fill=\"none\" stroke=\"#000000\" d=\"M52.9599,-123.03C57.0679,-133.05 62.7399,-145.57 69.1459,-156 71.4139,-159.69 74.0159,-163.43 76.7099,-167.03\"/>\n",
       "<polygon fill=\"#000000\" stroke=\"#000000\" points=\"74.1118,-169.3881 83.0479,-175.08 79.6118,-165.0578 74.1118,-169.3881\"/>\n",
       "<text text-anchor=\"middle\" x=\"73.1459\" y=\"-144.8\" font-family=\"Times,serif\" font-size=\"14.00\" fill=\"#000000\">5</text>\n",
       "</g>\n",
       "<!-- Facebook&#45;&gt;Reddit -->\n",
       "<g id=\"edge7\" class=\"edge\">\n",
       "<title>Facebook-&gt;Reddit</title>\n",
       "<path fill=\"none\" stroke=\"#000000\" d=\"M62.3459,-87.812C74.7119,-74.692 91.8989,-56.457 105.6099,-41.914\"/>\n",
       "<polygon fill=\"#000000\" stroke=\"#000000\" points=\"108.5011,-43.9491 112.8099,-34.27 103.4056,-39.1496 108.5011,-43.9491\"/>\n",
       "<text text-anchor=\"middle\" x=\"98.6459\" y=\"-57.8\" font-family=\"Times,serif\" font-size=\"14.00\" fill=\"#000000\">10</text>\n",
       "</g>\n",
       "<!-- Reddit&#45;&gt;Google -->\n",
       "<g id=\"edge8\" class=\"edge\">\n",
       "<title>Reddit-&gt;Google</title>\n",
       "<path fill=\"none\" stroke=\"#000000\" d=\"M140.2499,-34.91C143.9199,-40.724 147.6399,-47.43 150.1499,-54 174.8899,-118.92 166.3899,-140.81 160.1499,-210 158.8099,-224.85 159.8599,-229.23 154.1499,-243 152.6899,-246.51 150.8499,-250.02 148.8299,-253.4\"/>\n",
       "<polygon fill=\"#000000\" stroke=\"#000000\" points=\"145.7906,-251.6518 143.2199,-261.93 151.6391,-255.4982 145.7906,-251.6518\"/>\n",
       "<text text-anchor=\"middle\" x=\"170.1499\" y=\"-144.8\" font-family=\"Times,serif\" font-size=\"14.00\" fill=\"#000000\">5</text>\n",
       "</g>\n",
       "<!-- Reddit&#45;&gt;Twitter -->\n",
       "<g id=\"edge9\" class=\"edge\">\n",
       "<title>Reddit-&gt;Twitter</title>\n",
       "<path fill=\"none\" stroke=\"#000000\" d=\"M125.0199,-36.129C119.7899,-66.456 109.2299,-127.69 103.0199,-163.72\"/>\n",
       "<polygon fill=\"#000000\" stroke=\"#000000\" points=\"99.4923,-163.5803 101.2399,-174.03 106.3903,-164.7713 99.4923,-163.5803\"/>\n",
       "<text text-anchor=\"middle\" x=\"119.1499\" y=\"-101.3\" font-family=\"Times,serif\" font-size=\"14.00\" fill=\"#000000\">6</text>\n",
       "</g>\n",
       "<!-- Reddit&#45;&gt;Facebook -->\n",
       "<g id=\"edge10\" class=\"edge\">\n",
       "<title>Reddit-&gt;Facebook</title>\n",
       "<path fill=\"none\" stroke=\"#000000\" d=\"M101.8199,-30.11C90.9609,-36.103 78.8949,-44.176 70.1459,-54 64.0649,-60.828 59.2259,-69.466 55.5319,-77.683\"/>\n",
       "<polygon fill=\"#000000\" stroke=\"#000000\" points=\"52.2665,-76.4215 51.7159,-87.002 58.7444,-79.0741 52.2665,-76.4215\"/>\n",
       "<text text-anchor=\"middle\" x=\"74.1459\" y=\"-57.8\" font-family=\"Times,serif\" font-size=\"14.00\" fill=\"#000000\">3</text>\n",
       "</g>\n",
       "<!-- Reddit&#45;&gt;Reddit -->\n",
       "<g id=\"edge11\" class=\"edge\">\n",
       "<title>Reddit-&gt;Reddit</title>\n",
       "<path fill=\"none\" stroke=\"#000000\" d=\"M159.7599,-25.858C171.5399,-26.115 181.2399,-23.496 181.2399,-18 181.2399,-14.221 176.6599,-11.803 169.9599,-10.744\"/>\n",
       "<polygon fill=\"#000000\" stroke=\"#000000\" points=\"169.9488,-7.2373 159.7599,-10.142 169.5363,-14.2252 169.9488,-7.2373\"/>\n",
       "<text text-anchor=\"middle\" x=\"185.2399\" y=\"-14.3\" font-family=\"Times,serif\" font-size=\"14.00\" fill=\"#000000\">2</text>\n",
       "</g>\n",
       "</g>\n",
       "</svg>"
      ],
      "text/plain": [
       "<IPython.core.display.SVG object>"
      ]
     },
     "metadata": {},
     "output_type": "display_data"
    }
   ],
   "source": [
    "A = np.array([[0,  2,  0,  5],\n",
    "              [1,  0,  5,  6],\n",
    "              [2,  4,  0,  3],\n",
    "              [1,  0, 10,  2]])\n",
    "\n",
    "labels = ['Google', 'Twitter', 'Facebook', 'Reddit']\n",
    "\n",
    "graph.draw_matrix(A.T, labels)"
   ]
  },
  {
   "cell_type": "markdown",
   "metadata": {},
   "source": [
    "**Check your answers!**\n",
    "\n",
    "First, convert this to a Markov matrix `M2` by converting each entry to a probability. Recall you can retrieve the column of a NumPy matrix with the syntax `A[:,i]`. "
   ]
  },
  {
   "cell_type": "code",
   "execution_count": null,
   "metadata": {},
   "outputs": [],
   "source": [
    "#grade_clear\n",
    "#clear\n",
    "n = len(A)\n",
    "M2 = np.zeros((n, n))\n",
    "# Convert entries in M2 below\n",
    "#clear\n",
    "for i in range(len(A[0])):\n",
    "    M2[:,i] = A[:,i]/ la.norm(A[:,i],1)"
   ]
  },
  {
   "cell_type": "markdown",
   "metadata": {},
   "source": [
    "**Try this!**\n",
    "\n",
    "Now, use power iteration as you have done before to find the steady-state of the Markov matrix. You can use any starting vector you like, as long as it is normalized. This steady-state is the relative PageRank of each webpage. Store your result in `eigvec`."
   ]
  },
  {
   "cell_type": "code",
   "execution_count": null,
   "metadata": {
    "scrolled": true
   },
   "outputs": [],
   "source": [
    "#clear\n",
    "x = np.random.rand(4)\n",
    "x /= la.norm(x, 1)\n",
    "\n",
    "eigvec = power_iteration(M2, x)"
   ]
  },
  {
   "cell_type": "markdown",
   "metadata": {},
   "source": [
    "Now you can print it out:"
   ]
  },
  {
   "cell_type": "code",
   "execution_count": null,
   "metadata": {},
   "outputs": [],
   "source": [
    "print(eigvec)"
   ]
  },
  {
   "cell_type": "markdown",
   "metadata": {},
   "source": [
    "What is the highest ranking site here?  You can use `labels` to get a name from a node index."
   ]
  },
  {
   "cell_type": "code",
   "execution_count": null,
   "metadata": {},
   "outputs": [],
   "source": [
    "print(labels[np.argmax(eigvec)])"
   ]
  },
  {
   "cell_type": "markdown",
   "metadata": {},
   "source": [
    "## Larger Example"
   ]
  },
  {
   "cell_type": "markdown",
   "metadata": {},
   "source": [
    "Lets try a larger example with more websites.  We will have a slightly different format to represent our links."
   ]
  },
  {
   "cell_type": "code",
   "execution_count": null,
   "metadata": {},
   "outputs": [],
   "source": [
    "num_pages = 20\n",
    "\n",
    "# Array with the edges\n",
    "edges = np.loadtxt(\"pagerank_large.txt\").astype(np.int64)\n",
    "\n",
    "# these are random, don't look too deeply into this...\n",
    "labels = ['Google', 'Twitter', 'Facebook', 'Reddit', 'WordPress', 'ArXiv', 'Amazon', 'UIUC', 'Wikipedia', 'IMDb',\n",
    "          'GitHub', 'Yahoo!', 'Flickr', 'Apple', 'Baidu', 'VKontakte', 'Mozilla', 'LinkedIn', 'YouTube', 'NASA']\n",
    "\n",
    "print(edges)"
   ]
  },
  {
   "cell_type": "markdown",
   "metadata": {},
   "source": [
    "The link information is given in the `edges` 2d numpy array, that has shape `(total number of links, 2)`"
   ]
  },
  {
   "cell_type": "code",
   "execution_count": null,
   "metadata": {},
   "outputs": [],
   "source": [
    "edges.shape"
   ]
  },
  {
   "cell_type": "markdown",
   "metadata": {},
   "source": [
    "Each row of `edges` has two entries, `[a,b]`, representing an edge (outgoing link) from website with index `a` to website with index `b`.\n",
    "\n",
    "For example, if the row is `[1, 8]`, then there is an edge/link going out of node `1` into node `8`.\n",
    "\n",
    "From the `edges` array, first create the adjacency matrix such that ${\\bf A}_{i,j}$ is equal to $1$ if webpage $i$ can be reached from webpage $j$, and $0$ otherwise.  You can assume that there are $n=20$ websites in total, and thus you will have a $20\\times 20$ adjacency matrix."
   ]
  },
  {
   "cell_type": "code",
   "execution_count": null,
   "metadata": {},
   "outputs": [],
   "source": [
    "A2 = np.zeros((num_pages, num_pages))\n",
    "for edge in edges:\n",
    "    A2[edge[1], edge[0]] = 1\n",
    "A2"
   ]
  },
  {
   "cell_type": "markdown",
   "metadata": {},
   "source": [
    "We can draw the adjacency matrix for a visual depiction of what is going on:"
   ]
  },
  {
   "cell_type": "code",
   "execution_count": null,
   "metadata": {},
   "outputs": [],
   "source": [
    "graph.draw_matrix(A2.T, labels, show_weights=False)"
   ]
  },
  {
   "cell_type": "markdown",
   "metadata": {},
   "source": [
    "Now, create the Markov matrix  ${\\bf M}$ from the adjacency matrix as you have done before.  Recall that in order to satisfy the Markov property that the column sum is equal to 1, we need to normalize columns by dividing its values by the column sum."
   ]
  },
  {
   "cell_type": "code",
   "execution_count": null,
   "metadata": {},
   "outputs": [],
   "source": [
    "M = A2 / la.norm(A2, 1, axis=0)\n",
    "M"
   ]
  },
  {
   "cell_type": "markdown",
   "metadata": {},
   "source": [
    "What do you observe? Looks like you may have tried to compute divisions by zero!\n",
    "\n",
    "**What happens when there is no outgoing link from a website?**\n",
    "\n",
    "The column corresponding to that website will only have zero entries, and if we apply the above normalization, we will have a division by zero.\n",
    "\n",
    "How would you instead model the behavior of a web-surfer that is browsing a website without outgoing links?\n",
    "\n",
    "**Discuss this with your group.** Come up with ideas first, before reading the following text."
   ]
  },
  {
   "cell_type": "markdown",
   "metadata": {},
   "source": [
    "![](brainstorming.jpg)\n",
    "\n",
    "\n"
   ]
  },
  {
   "cell_type": "markdown",
   "metadata": {},
   "source": [
    "**The PageRank algorithm proposes the following:**\n",
    "once the web surfer reaches a page without outgoing links, we can assume that he will probably not stay on that webpage forever.\n",
    "\n",
    "Instead it assumes that the web surfer will move to any of the webpages with equal probability $1/n$, where $n$ (defined as `num_pages`) is the number of pages.\n",
    "\n",
    "**Check your answers!**\n",
    "\n",
    "Using the matrix adjacency matrix ${\\bf A}_2$, construct the Markov matrix ${\\bf M}_3$ following this proposed model and store your result in variable `M3`."
   ]
  },
  {
   "cell_type": "code",
   "execution_count": null,
   "metadata": {},
   "outputs": [],
   "source": [
    "#grade_clear\n",
    "#clear\n",
    "M3 = A2.copy()\n",
    "#clear\n",
    "M3[:,la.norm(A2, 1, axis=0) == 0] = 1/num_pages\n",
    "M3 /= la.norm(M3, 1, axis=0)\n",
    "M3"
   ]
  },
  {
   "cell_type": "markdown",
   "metadata": {},
   "source": [
    "**Try this!**\n",
    "\n",
    "Use your defined function `power_iteration` to find the PageRank steady-state vector and save this as `pr`."
   ]
  },
  {
   "cell_type": "code",
   "execution_count": null,
   "metadata": {},
   "outputs": [],
   "source": [
    "#clear\n",
    "x = np.ones(num_pages) / num_pages\n",
    "pr = power_iteration(M3, x)\n",
    "print(pr)"
   ]
  },
  {
   "cell_type": "markdown",
   "metadata": {},
   "source": [
    "You can see the ranking of all the websites using the PageRank algorithm:"
   ]
  },
  {
   "cell_type": "code",
   "execution_count": null,
   "metadata": {
    "scrolled": true
   },
   "outputs": [],
   "source": [
    "names = np.array(labels)\n",
    "names[np.argsort(pr)[::-1]]"
   ]
  },
  {
   "cell_type": "code",
   "execution_count": null,
   "metadata": {},
   "outputs": [],
   "source": []
  }
 ],
 "metadata": {
  "kernelspec": {
   "display_name": "Python 3",
   "language": "python",
   "name": "python3"
  },
  "language_info": {
   "codemirror_mode": {
    "name": "ipython",
    "version": 3
   },
   "file_extension": ".py",
   "mimetype": "text/x-python",
   "name": "python",
   "nbconvert_exporter": "python",
   "pygments_lexer": "ipython3",
   "version": "3.8.0"
  }
 },
 "nbformat": 4,
 "nbformat_minor": 4
}
