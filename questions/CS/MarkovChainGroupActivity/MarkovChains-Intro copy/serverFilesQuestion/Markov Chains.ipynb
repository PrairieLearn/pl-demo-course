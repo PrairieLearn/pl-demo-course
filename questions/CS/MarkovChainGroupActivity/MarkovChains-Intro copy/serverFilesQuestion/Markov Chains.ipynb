{
 "cells": [
  {
   "cell_type": "code",
   "execution_count": null,
   "metadata": {},
   "outputs": [],
   "source": [
    "import numpy as np\n",
    "import numpy.linalg as la\n",
    "import graph\n",
    "import matplotlib.pyplot as plt"
   ]
  },
  {
   "cell_type": "markdown",
   "metadata": {},
   "source": [
    "# Lesson 7: Markov Chains"
   ]
  },
  {
   "cell_type": "markdown",
   "metadata": {},
   "source": [
    "A Markov chain is a mathematical model used to describe a set of states and the probability of transitioning between them.\n",
    "\n",
    "<img src=\"markov.svg\" width=300px></img>\n",
    "\n",
    "As a small example, let's create a Markov chain to model the weather outside. We will have two states to represent the possible weather for a day:\n",
    "\n",
    "1. Sunny\n",
    "2. Snowy\n",
    "\n",
    "After collecting data about the weather for many years, you observed that the chance of a snowy day occurring after one snowy day is 90% and that the chance of a snowy day after one sunny day is 70%."
   ]
  },
  {
   "cell_type": "markdown",
   "metadata": {},
   "source": [
    " We can see this visually with the following graph. Do you understand how we were able to obtain the other numbers? Recall that we are dealing with probabilities that should sum up to 100%.\n",
    "\n",
    "<img src=\"weather_graph.png\" width=446px></img>\n",
    "\n",
    "This is a *directed graph* because *edges have direction*. We can represent this (unsurprisingly) using a matrix, similarly to how we created the adjacency matrix, but with the opposite notation for the edge direction: the columns of the matrix represent outgoing edges, while the rows represent incoming edges:\n",
    "\n",
    "<img src=\"weather_matrix.png\" width=305px></img>\n",
    "\n",
    "and each entry of the matrix is given by:\n",
    "\n",
    "$$ M_{ij} = \\text{probability of moving from } j \\text{ to } i $$\n",
    "\n",
    "The matrix above is called the **Markov matrix**, which has the following properties:\n",
    "\n",
    "- $M_{ij}$ entry of a transition matrix has the probability of transitioning from state $j$ to state $i$\n",
    "\n",
    "- Since the entries are probabilities, they are always non-negative real numbers, and the columns should sum to 1.\n"
   ]
  },
  {
   "cell_type": "code",
   "execution_count": null,
   "metadata": {},
   "outputs": [],
   "source": [
    "M = np.array([[0.3, 0.1], [0.7, 0.9]])"
   ]
  },
  {
   "cell_type": "markdown",
   "metadata": {},
   "source": [
    "Now that we have created the model, we can use it to calculate various probabilities. Let's say that today was a sunny day, which we can represent by a vector that is 100% sunny and 0% snowy:"
   ]
  },
  {
   "cell_type": "code",
   "execution_count": null,
   "metadata": {},
   "outputs": [],
   "source": [
    "x = np.array([1.0, 0.0])"
   ]
  },
  {
   "cell_type": "markdown",
   "metadata": {},
   "source": [
    "If we multiply our transition matrix by our state vector, we can find the probability of having each type of day tomorrow:"
   ]
  },
  {
   "cell_type": "code",
   "execution_count": null,
   "metadata": {},
   "outputs": [],
   "source": [
    "x1 = M @ x\n",
    "x1"
   ]
  },
  {
   "cell_type": "markdown",
   "metadata": {},
   "source": [
    "This doesn't give us any new information, so lets see what happens when we multiply the state vector again:"
   ]
  },
  {
   "cell_type": "code",
   "execution_count": null,
   "metadata": {},
   "outputs": [],
   "source": [
    "x2 = M @ x1\n",
    "x2"
   ]
  },
  {
   "cell_type": "markdown",
   "metadata": {},
   "source": [
    "Now, we have \"simulated\" the Markov chain twice, which tells us the weather probability in _two_ days.  What would happen if we multiplied our new vector by the matrix a large number of times?\n",
    "\n",
    "**Try this!**\n",
    "\n",
    "Write a loop to left-multiply (${\\bf Mx}$) the state vector $15$ times, printing out each intermediate value. Start your iterations using the state vector defined above as `x`."
   ]
  },
  {
   "cell_type": "code",
   "execution_count": null,
   "metadata": {},
   "outputs": [],
   "source": [
    "xc = x.copy()\n",
    "# Write loop here\n",
    "#clear\n",
    "for i in range(15):\n",
    "    xc = M @ xc\n",
    "    print(xc)"
   ]
  },
  {
   "cell_type": "markdown",
   "metadata": {},
   "source": [
    "You can see that for enough iterations we will eventually converge to a steady state ${\\bf x}^* $, and multiplying this steady state by the Markov matrix will no longer modify the vector, i.e.\n",
    "\n",
    "$$ {\\bf M}{\\bf x}^* = {\\bf x}^* $$\n",
    "\n",
    "Note that this is an eigensystem problem, where $(1,{\\bf x}^*)$ is an eigenpair. Indeed, we  found the eigenvector of ${\\bf M}$ with corresponding eigenvalue $\\lambda = 1$!"
   ]
  },
  {
   "cell_type": "markdown",
   "metadata": {},
   "source": [
    "Computing the eigenvector like this is called the [*Power Iteration method*](https://en.wikipedia.org/wiki/Power_iteration), and can be used to find the eigenvector that corresponds to the *dominant* eigenvalue (largest eigenvalue in magnitude).\n",
    "\n",
    "**Check your answers!**\n",
    "\n",
    "Implement the function `power_iteration()` that takes a matrix `M` and starting vector `x`, and computes the eigenvector corresponding to dominant eigenvalue (same as you have done above).\n",
    "\n",
    "For simplicity, use $100$ iterations for your loop."
   ]
  },
  {
   "cell_type": "code",
   "execution_count": null,
   "metadata": {},
   "outputs": [],
   "source": [
    "#grade_clear\n",
    "#clear\n",
    "def power_iteration(M, x):\n",
    "    # Perform power iteration and return steady state vector xstar\n",
    "    xc = x.copy()\n",
    "    #clear\n",
    "    for i in range(100):\n",
    "        xc = M @ xc\n",
    "    #clear\n",
    "    return xc"
   ]
  },
  {
   "cell_type": "markdown",
   "metadata": {},
   "source": [
    "Run your `power_iteration()` function on `M` and a new vector,\n",
    "$$ {\\bf x} = \\begin{bmatrix} 0.5 \\\\ 0.5\\end{bmatrix} $$\n",
    "\n",
    "Do you get the same result as before?"
   ]
  },
  {
   "cell_type": "code",
   "execution_count": null,
   "metadata": {},
   "outputs": [],
   "source": [
    "power_iteration(M, np.array([0.5, 0.5]))"
   ]
  },
  {
   "cell_type": "markdown",
   "metadata": {},
   "source": [
    "As long as the starting state vector `x` is normalized (the entries add up to one), the steady state solution will be the same. There is one caveat to this statement, which we will discuss in the next section.\n",
    "\n",
    "Take a look at the code snippet below. Notice that the steady state solution does not change, regardless of the initial vector (here generated at random)."
   ]
  },
  {
   "cell_type": "code",
   "execution_count": null,
   "metadata": {},
   "outputs": [],
   "source": [
    "# run this as many times as you want, the bottom vector should always stay the same!\n",
    "random_vector = np.random.rand(2)\n",
    "random_vector /= np.sum(random_vector) # normalize\n",
    "\n",
    "print(random_vector)\n",
    "print(power_iteration(M, random_vector))"
   ]
  },
  {
   "cell_type": "markdown",
   "metadata": {},
   "source": [
    "# The Gambler's Ruin and Reducibility"
   ]
  },
  {
   "cell_type": "markdown",
   "metadata": {},
   "source": [
    "Consider a gambler starting with some amount of money, say $\\$1$.\n",
    "\n",
    "The gambler is playing a game where they could either win $\\$1$ or lose $\\$1$ with equal probability.  The goal is to win $\\$3$ before losing all of his money, in which case they lose the game as well."
   ]
  },
  {
   "cell_type": "markdown",
   "metadata": {},
   "source": [
    "We can represent this as a state graph (see below).  If we start at the $\\$1$ state, we have a $50\\%$ chance of losing money (and the game) &mdash; the \"$\\$0$ (Lose)\" state &mdash; and a $50\\%$ chance of winning a dollar &mdash; the \"$\\$2$\" state."
   ]
  },
  {
   "cell_type": "markdown",
   "metadata": {},
   "source": [
    "<img src=\"Gambler.svg\"></img>"
   ]
  },
  {
   "cell_type": "markdown",
   "metadata": {},
   "source": [
    "**Check your answers!**\n",
    "\n",
    "Create the Markov matrix, denoted `G`, that follows the state diagram above."
   ]
  },
  {
   "cell_type": "code",
   "execution_count": null,
   "metadata": {},
   "outputs": [],
   "source": [
    "#grade_clear\n",
    "G = np.array([[1, 0.5,   0, 0],\n",
    "              [0,   0, 0.5, 0],\n",
    "              [0, 0.5,   0, 0],\n",
    "              [0,   0, 0.5, 1]])"
   ]
  },
  {
   "cell_type": "markdown",
   "metadata": {},
   "source": [
    "You can display your matrix as a graph to check your work."
   ]
  },
  {
   "cell_type": "code",
   "execution_count": null,
   "metadata": {},
   "outputs": [],
   "source": [
    "labels = ['Lose', '$1', '$2', '$3 (Win)']\n",
    "graph.draw_matrix(G.T, labels)"
   ]
  },
  {
   "cell_type": "markdown",
   "metadata": {},
   "source": [
    "Suppose the gambler starts with $\\$1$ ($100\\%$ probability of being in the $\\$1$ state). Write the initial state as the array `x0`:"
   ]
  },
  {
   "cell_type": "code",
   "execution_count": null,
   "metadata": {},
   "outputs": [],
   "source": [
    "x0 = np.array([0.0, 1.0, 0.0, 0.0])"
   ]
  },
  {
   "cell_type": "markdown",
   "metadata": {},
   "source": [
    "**Try this!**\n",
    "\n",
    "Use power iteration to get the probability of losing and winning using the initial state defined as `x0` and store your result in `xstar1`"
   ]
  },
  {
   "cell_type": "code",
   "execution_count": null,
   "metadata": {},
   "outputs": [],
   "source": [
    "# define xstar1\n",
    "#clear\n",
    "xstar1 = power_iteration(G,x0)\n",
    "#clear\n",
    "\n",
    "# Print out the probability\n",
    "print(np.round(xstar1 * 100,2))"
   ]
  },
  {
   "cell_type": "markdown",
   "metadata": {},
   "source": [
    "**Check your answers!**\n",
    "\n",
    "Now use power iteration to get the probability of winning and losing if the gambler starts with $\\$2$ instead. Store your result in `xstar2`."
   ]
  },
  {
   "cell_type": "code",
   "execution_count": null,
   "metadata": {},
   "outputs": [],
   "source": [
    "#grade_clear\n",
    "xstar2 = power_iteration(G, np.array([0.0, 0.0, 1.0, 0.0]))"
   ]
  },
  {
   "cell_type": "markdown",
   "metadata": {},
   "source": [
    "Print out `xstar2`. Is this result different from `xstar1`?"
   ]
  },
  {
   "cell_type": "code",
   "execution_count": null,
   "metadata": {},
   "outputs": [],
   "source": [
    "print(np.round(xstar2 * 100, 2))"
   ]
  },
  {
   "cell_type": "markdown",
   "metadata": {},
   "source": [
    "Because we can no longer reach every state from every other state, **we no longer have a unique steady state**.  A Markov chain of this type is said to be \"reducible\".\n",
    "\n",
    "The code snippet below runs power iteration for a random initial state vector. Run it many times, and see what happens to the resulting vector:"
   ]
  },
  {
   "cell_type": "code",
   "execution_count": null,
   "metadata": {},
   "outputs": [],
   "source": [
    "x = np.random.rand(4)\n",
    "x = x / la.norm(x,1)\n",
    "print(np.round(power_iteration(G, x),2))"
   ]
  },
  {
   "cell_type": "markdown",
   "metadata": {},
   "source": [
    "We can no longer observe the behavior in which the steady state vector is the same, no matter the given initial vector.\n"
   ]
  },
  {
   "cell_type": "markdown",
   "metadata": {},
   "source": [
    "# Google PageRank"
   ]
  },
  {
   "cell_type": "markdown",
   "metadata": {},
   "source": [
    "Google's dominance as a search engine came from their [_PageRank_](http://ilpubs.stanford.edu:8090/422/1/1999-66.pdf) algorithm, named after co-founder Larry Page.  By assigning each page a relative rank, web searches can give more relevant results.\n",
    "\n",
    "The idea here is to model a user surfing different web pages by randomly clicking on links.  Pages with more incoming links (they are cited more often) are presumed to be higher quality and therefore get a higher PageRank value.\n",
    "\n",
    "We can model this as a graph, where each webpage has a chance of moving to another one:\n",
    "\n",
    "<img src=\"PageRank Example.svg\" width=\"300px\"></img>\n",
    "\n",
    "This probability of moving from one page to another is estimated from the number of outgoing links, more formally the probability of moving from page $j$ to page $i$ is given by:\n",
    "\n",
    "$$ p\\left(i \\vert j\\right) = \\frac{\\text{number of links from }j\\text{ to }i}{\\text{total links going out of } j}$$"
   ]
  },
  {
   "cell_type": "markdown",
   "metadata": {},
   "source": [
    "For example, if Google has 4 outgoing links:\n",
    "\n",
    " - 1 to Twitter\n",
    " - 1 to Reddit\n",
    " - 2 to Facebook\n",
    "\n",
    "Then it would have a $0\\%$ probability of linking to itself, $25\\%$ to Twitter, $25\\%$ to Reddit, and $50\\%$ to Facebook."
   ]
  },
  {
   "cell_type": "markdown",
   "metadata": {},
   "source": [
    "Lets try finding the steady state of a small example.  You are given an adjacency matrix ${\\bf A}$ such that each entry $A_{ij}$ contains the number of links going *into* page $i$ *from* $j$."
   ]
  },
  {
   "cell_type": "code",
   "execution_count": null,
   "metadata": {},
   "outputs": [],
   "source": [
    "A = np.array([[0,  2,  0,  5],\n",
    "              [1,  0,  5,  6],\n",
    "              [2,  4,  0,  3],\n",
    "              [1,  0, 10,  2]])\n",
    "\n",
    "labels = ['Google', 'Twitter', 'Facebook', 'Reddit']\n",
    "\n",
    "graph.draw_matrix(A.T, labels, directed=True)"
   ]
  },
  {
   "cell_type": "markdown",
   "metadata": {},
   "source": [
    "**Check your answers!**\n",
    "\n",
    "First, convert this to a Markov matrix `M2` by converting each entry to a probability. Recall you can retrieve the column of a NumPy matrix with the syntax `A[:,i]`. "
   ]
  },
  {
   "cell_type": "code",
   "execution_count": null,
   "metadata": {},
   "outputs": [],
   "source": [
    "#grade_clear\n",
    "#clear\n",
    "n = len(A)\n",
    "M2 = np.zeros((n, n))\n",
    "# Convert entries in M2 below\n",
    "#clear\n",
    "for i in range(len(A[0])):\n",
    "    M2[:,i] = A[:,i]/ la.norm(A[:,i],1)"
   ]
  },
  {
   "cell_type": "markdown",
   "metadata": {},
   "source": [
    "**Try this!**\n",
    "\n",
    "Now, use power iteration as you have done before to find the steady-state of the Markov matrix. You can use any starting vector you like, as long as it is normalized. This steady-state is the relative PageRank of each webpage. Store your result in `eigvec`."
   ]
  },
  {
   "cell_type": "code",
   "execution_count": null,
   "metadata": {
    "scrolled": true
   },
   "outputs": [],
   "source": [
    "#clear\n",
    "x = np.random.rand(4)\n",
    "x /= la.norm(x, 1)\n",
    "\n",
    "eigvec = power_iteration(M2, x)"
   ]
  },
  {
   "cell_type": "markdown",
   "metadata": {},
   "source": [
    "Now you can print it out:"
   ]
  },
  {
   "cell_type": "code",
   "execution_count": null,
   "metadata": {},
   "outputs": [],
   "source": [
    "print(eigvec)"
   ]
  },
  {
   "cell_type": "markdown",
   "metadata": {},
   "source": [
    "What is the highest ranking site here?  You can use `labels` to get a name from a node index."
   ]
  },
  {
   "cell_type": "code",
   "execution_count": null,
   "metadata": {},
   "outputs": [],
   "source": [
    "print(labels[np.argmax(eigvec)])"
   ]
  },
  {
   "cell_type": "markdown",
   "metadata": {},
   "source": [
    "## Larger Example"
   ]
  },
  {
   "cell_type": "markdown",
   "metadata": {},
   "source": [
    "Lets try a larger example with more websites.  We will have a slightly different format to represent our links."
   ]
  },
  {
   "cell_type": "code",
   "execution_count": null,
   "metadata": {},
   "outputs": [],
   "source": [
    "num_pages = 20\n",
    "\n",
    "# Array with the edges\n",
    "edges = np.loadtxt(\"pagerank_large.txt\").astype(np.int64)\n",
    "\n",
    "# these are random, don't look too deeply into this...\n",
    "labels = ['Google', 'Twitter', 'Facebook', 'Reddit', 'WordPress', 'ArXiv', 'Amazon', 'UIUC', 'Wikipedia', 'IMDb',\n",
    "          'GitHub', 'Yahoo!', 'Flickr', 'Apple', 'Baidu', 'VKontakte', 'Mozilla', 'LinkedIn', 'YouTube', 'NASA']\n",
    "\n",
    "print(edges)"
   ]
  },
  {
   "cell_type": "markdown",
   "metadata": {},
   "source": [
    "The link information is given in the `edges` 2d numpy array, that has shape `(total number of links, 2)`"
   ]
  },
  {
   "cell_type": "code",
   "execution_count": null,
   "metadata": {},
   "outputs": [],
   "source": [
    "edges.shape"
   ]
  },
  {
   "cell_type": "markdown",
   "metadata": {},
   "source": [
    "Each row of `edges` has two entries, `[a,b]`, representing an edge (outgoing link) from website with index `a` to website with index `b`.\n",
    "\n",
    "For example, if the row is `[1, 8]`, then there is an edge/link going out of node `1` into node `8`.\n",
    "\n",
    "From the `edges` array, first create the adjacency matrix such that ${\\bf A}_{i,j}$ is equal to $1$ if webpage $i$ can be reached from webpage $j$, and $0$ otherwise.  You can assume that there are $n=20$ websites in total, and thus you will have a $20\\times 20$ adjacency matrix."
   ]
  },
  {
   "cell_type": "code",
   "execution_count": null,
   "metadata": {},
   "outputs": [],
   "source": [
    "A2 = np.zeros((num_pages, num_pages))\n",
    "for edge in edges:\n",
    "    A2[edge[1], edge[0]] = 1\n",
    "A2"
   ]
  },
  {
   "cell_type": "markdown",
   "metadata": {},
   "source": [
    "We can draw the adjacency matrix for a visual depiction of what is going on:"
   ]
  },
  {
   "cell_type": "code",
   "execution_count": null,
   "metadata": {},
   "outputs": [],
   "source": [
    "graph.draw_matrix(A2.T, labels, show_weights=False)"
   ]
  },
  {
   "cell_type": "markdown",
   "metadata": {},
   "source": [
    "Now, create the Markov matrix  ${\\bf M}$ from the adjacency matrix as you have done before.  Recall that in order to satisfy the Markov property that the column sum is equal to 1, we need to normalize columns by dividing its values by the column sum."
   ]
  },
  {
   "cell_type": "code",
   "execution_count": null,
   "metadata": {},
   "outputs": [],
   "source": [
    "M = A2 / la.norm(A2, 1, axis=0)\n",
    "M"
   ]
  },
  {
   "cell_type": "markdown",
   "metadata": {},
   "source": [
    "What do you observe? Looks like you may have tried to compute divisions by zero!\n",
    "\n",
    "**What happens when there is no outgoing link from a website?**\n",
    "\n",
    "The column corresponding to that website will only have zero entries, and if we apply the above normalization, we will have a division by zero.\n",
    "\n",
    "How would you instead model the behavior of a web-surfer that is browsing a website without outgoing links?\n",
    "\n",
    "**Discuss this with your group.** Come up with ideas first, before reading the following text."
   ]
  },
  {
   "cell_type": "markdown",
   "metadata": {},
   "source": [
    "![](brainstorming.jpg)\n",
    "\n",
    "\n"
   ]
  },
  {
   "cell_type": "markdown",
   "metadata": {},
   "source": [
    "**The PageRank algorithm proposes the following:**\n",
    "once the web surfer reaches a page without outgoing links, we can assume that he will probably not stay on that webpage forever.\n",
    "\n",
    "Instead it assumes that the web surfer will move to any of the webpages with equal probability $1/n$, where $n$ (defined as `num_pages`) is the number of pages.\n",
    "\n",
    "**Check your answers!**\n",
    "\n",
    "Using the matrix adjacency matrix ${\\bf A}_2$, construct the Markov matrix ${\\bf M}_3$ following this proposed model and store your result in variable `M3`."
   ]
  },
  {
   "cell_type": "code",
   "execution_count": null,
   "metadata": {},
   "outputs": [],
   "source": [
    "#grade_clear\n",
    "#clear\n",
    "M3 = A2.copy()\n",
    "#clear\n",
    "M3[:,la.norm(A2, 1, axis=0) == 0] = 1/num_pages\n",
    "M3 /= la.norm(M3, 1, axis=0)\n",
    "M3"
   ]
  },
  {
   "cell_type": "markdown",
   "metadata": {},
   "source": [
    "**Try this!**\n",
    "\n",
    "Use your defined function `power_iteration` to find the PageRank steady-state vector and save this as `pr`."
   ]
  },
  {
   "cell_type": "code",
   "execution_count": null,
   "metadata": {},
   "outputs": [],
   "source": [
    "#clear\n",
    "x = np.ones(num_pages) / num_pages\n",
    "pr = power_iteration(M3, x)\n",
    "print(pr)"
   ]
  },
  {
   "cell_type": "markdown",
   "metadata": {},
   "source": [
    "You can see the ranking of all the websites using the PageRank algorithm:"
   ]
  },
  {
   "cell_type": "code",
   "execution_count": null,
   "metadata": {
    "scrolled": true
   },
   "outputs": [],
   "source": [
    "names = np.array(labels)\n",
    "names[np.argsort(pr)[::-1]]"
   ]
  },
  {
   "cell_type": "code",
   "execution_count": null,
   "metadata": {},
   "outputs": [],
   "source": []
  }
 ],
 "metadata": {
  "kernelspec": {
   "display_name": "Python 3",
   "language": "python",
   "name": "python3"
  },
  "language_info": {
   "codemirror_mode": {
    "name": "ipython",
    "version": 3
   },
   "file_extension": ".py",
   "mimetype": "text/x-python",
   "name": "python",
   "nbconvert_exporter": "python",
   "pygments_lexer": "ipython3",
   "version": "3.8.0"
  }
 },
 "nbformat": 4,
 "nbformat_minor": 4
}
